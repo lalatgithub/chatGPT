{
 "cells": [
  {
   "cell_type": "code",
   "execution_count": 60,
   "id": "c3dfa568-d7e1-416f-9cf9-8b59f4295ee4",
   "metadata": {},
   "outputs": [],
   "source": [
    "import re\n",
    "from openai import OpenAI\n",
    "from IPython.display import Image"
   ]
  },
  {
   "cell_type": "code",
   "execution_count": 13,
   "id": "202d6bde-1d96-4001-b512-bd013e55a91a",
   "metadata": {},
   "outputs": [],
   "source": [
    "openai = OpenAI()"
   ]
  },
  {
   "cell_type": "code",
   "execution_count": 71,
   "id": "9120cd52-f20e-4c43-ba53-750426aaabe9",
   "metadata": {},
   "outputs": [],
   "source": [
    "def create_recipe_prompt(ingredients):\n",
    "    prompt = f\"Create a detailed recipe based on only the following ingredients: {', '.join(ingredients)}. \\n\"\\\n",
    "            +f\"Additionally, assign a title starting with 'Recipe Title: ' to this recipe. \"\\\n",
    "\n",
    "    return prompt"
   ]
  },
  {
   "cell_type": "code",
   "execution_count": 72,
   "id": "07f09ab3-69a7-485a-b2a8-6f95e6fe95d8",
   "metadata": {},
   "outputs": [],
   "source": [
    "def create_recipe(ingredients):\n",
    "    recipe_prompt = create_recipe_prompt(ingredients)\n",
    "    response = openai.chat.completions.create(\n",
    "        model='gpt-3.5-turbo',\n",
    "        messages=[{'role': 'user', 'content': recipe_prompt}],\n",
    "        temperature=0.7\n",
    "    )\n",
    "\n",
    "    return response.choices[0].message.content"
   ]
  },
  {
   "cell_type": "code",
   "execution_count": 73,
   "id": "e84f07a1-c4f6-4099-9fad-b47dc2495326",
   "metadata": {},
   "outputs": [],
   "source": [
    "def get_recipe_title(recipe):\n",
    "    return re.findall('^.*Recipe Title: .*$', recipe, re.MULTILINE)[0].strip().split('Recipe Title: ')[-1]"
   ]
  },
  {
   "cell_type": "code",
   "execution_count": 74,
   "id": "54b00b50-30ab-43bb-81fd-7cd97baff4c8",
   "metadata": {},
   "outputs": [],
   "source": [
    "def create_image_prompt_from_recipe_title(recipe_title):\n",
    "    return f\"{recipe_title}, professional food photography, 15mm, studio lighting\""
   ]
  },
  {
   "cell_type": "code",
   "execution_count": 75,
   "id": "a4a40329-e1a6-4048-a0a7-64c111605d78",
   "metadata": {},
   "outputs": [],
   "source": [
    "def create_image(recipe, image_size):\n",
    "    recipe_title = get_recipe_title(recipe)\n",
    "    image_prompt = create_image_prompt_from_recipe_title(recipe_title)\n",
    "    response = openai.images.generate(\n",
    "        prompt=image_prompt,\n",
    "        n=1,\n",
    "        size=image_size\n",
    "    )\n",
    "\n",
    "    return response.data[0].url"
   ]
  },
  {
   "cell_type": "code",
   "execution_count": 89,
   "id": "7ffb94bc-0cb5-4829-a856-f94ce9190ffa",
   "metadata": {},
   "outputs": [],
   "source": [
    "ingredients = ['eggs', 'bread', 'chicken', 'cheese']\n",
    "recipe = create_recipe(ingredients)"
   ]
  },
  {
   "cell_type": "code",
   "execution_count": 93,
   "id": "718845ed-4a64-42da-9f97-1fdd53534909",
   "metadata": {},
   "outputs": [],
   "source": [
    "image_size = '512x512'\n",
    "image = create_image(recipe, image_size)"
   ]
  },
  {
   "cell_type": "code",
   "execution_count": 94,
   "id": "e6713621-c27f-47b3-a4bb-69c447b6aa76",
   "metadata": {},
   "outputs": [
    {
     "data": {
      "text/html": [
       "<img src=\"https://oaidalleapiprodscus.blob.core.windows.net/private/org-CMYq0wLF2zfrsXDQmnDi4syt/user-hBbg5fQpwt2vL3kLL3X138N9/img-FJhYzNxpp8uyM3fqE5DsSpgr.png?st=2024-01-14T17%3A43%3A09Z&se=2024-01-14T19%3A43%3A09Z&sp=r&sv=2021-08-06&sr=b&rscd=inline&rsct=image/png&skoid=6aaadede-4fb3-4698-a8f6-684d7786b067&sktid=a48cca56-e6da-484e-a814-9c849652bcb3&skt=2024-01-14T00%3A46%3A59Z&ske=2024-01-15T00%3A46%3A59Z&sks=b&skv=2021-08-06&sig=CN72/ug0cF6Mef7JGrt33Hep3lxNDQ2bRP7u6IfQzBY%3D\"/>"
      ],
      "text/plain": [
       "<IPython.core.display.Image object>"
      ]
     },
     "execution_count": 94,
     "metadata": {},
     "output_type": "execute_result"
    }
   ],
   "source": [
    "Image(url=image)"
   ]
  },
  {
   "cell_type": "code",
   "execution_count": 95,
   "id": "40bf354d-f6a1-42ba-895d-959fbca5a2f4",
   "metadata": {},
   "outputs": [
    {
     "name": "stdout",
     "output_type": "stream",
     "text": [
      "Recipe Title: Cheesy Chicken Strata \n",
      "\n",
      "Ingredients:\n",
      "- 6 slices of bread\n",
      "- 2 cups cooked chicken, shredded or diced\n",
      "- 6 large eggs\n",
      "- 1 cup shredded cheese (cheddar, mozzarella, or your favorite cheese)\n",
      "- Salt and pepper, to taste\n",
      "\n",
      "Instructions:\n",
      "\n",
      "1. Preheat your oven to 350°F (175°C). Grease a 9x13-inch baking dish.\n",
      "\n",
      "2. Cut the bread slices into cubes, approximately 1 inch in size. Spread the bread cubes evenly in the prepared baking dish.\n",
      "\n",
      "3. Sprinkle the cooked chicken evenly over the bread cubes.\n",
      "\n",
      "4. In a mixing bowl, crack the eggs and beat them until well combined. Add salt and pepper to taste.\n",
      "\n",
      "5. Pour the beaten eggs evenly over the chicken and bread mixture in the baking dish. Use a fork or spatula to gently press down the ingredients, ensuring they are evenly coated with the egg mixture.\n",
      "\n",
      "6. Sprinkle the shredded cheese over the top, covering the entire dish.\n",
      "\n",
      "7. Place the baking dish in the preheated oven and bake for 30-40 minutes, or until the eggs are set and the cheese has melted and turned golden brown.\n",
      "\n",
      "8. Once cooked, remove the dish from the oven and let it cool for a few minutes. This will make it easier to cut and serve.\n",
      "\n",
      "9. Cut into squares or desired shapes and serve warm as a hearty breakfast, lunch, or dinner option. This Cheesy Chicken Strata pairs well with a side salad or steamed vegetables.\n",
      "\n",
      "Enjoy your delicious Cheesy Chicken Strata!\n"
     ]
    }
   ],
   "source": [
    "print(recipe)"
   ]
  },
  {
   "cell_type": "code",
   "execution_count": null,
   "id": "0af10ebb-ef76-486a-96b4-ac05beb0a17a",
   "metadata": {},
   "outputs": [],
   "source": []
  }
 ],
 "metadata": {
  "kernelspec": {
   "display_name": "Python 3 (ipykernel)",
   "language": "python",
   "name": "python3"
  },
  "language_info": {
   "codemirror_mode": {
    "name": "ipython",
    "version": 3
   },
   "file_extension": ".py",
   "mimetype": "text/x-python",
   "name": "python",
   "nbconvert_exporter": "python",
   "pygments_lexer": "ipython3",
   "version": "3.10.12"
  }
 },
 "nbformat": 4,
 "nbformat_minor": 5
}
