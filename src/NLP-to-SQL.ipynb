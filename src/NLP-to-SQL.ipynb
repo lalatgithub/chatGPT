{
 "cells": [
  {
   "cell_type": "code",
   "execution_count": 52,
   "id": "c3dfa568-d7e1-416f-9cf9-8b59f4295ee4",
   "metadata": {},
   "outputs": [],
   "source": [
    "import openai\n",
    "import pandas as pd\n",
    "from sqlalchemy import create_engine, text"
   ]
  },
  {
   "cell_type": "code",
   "execution_count": 53,
   "id": "10cc48b6-35cf-42d4-9f83-088aa542f53c",
   "metadata": {},
   "outputs": [],
   "source": [
    "df = pd.read_csv('../data/sales.csv')"
   ]
  },
  {
   "cell_type": "code",
   "execution_count": 54,
   "id": "f930a384-1fda-4e0a-ad3f-abf8adaf337f",
   "metadata": {},
   "outputs": [
    {
     "data": {
      "text/html": [
       "<div>\n",
       "<style scoped>\n",
       "    .dataframe tbody tr th:only-of-type {\n",
       "        vertical-align: middle;\n",
       "    }\n",
       "\n",
       "    .dataframe tbody tr th {\n",
       "        vertical-align: top;\n",
       "    }\n",
       "\n",
       "    .dataframe thead th {\n",
       "        text-align: right;\n",
       "    }\n",
       "</style>\n",
       "<table border=\"1\" class=\"dataframe\">\n",
       "  <thead>\n",
       "    <tr style=\"text-align: right;\">\n",
       "      <th></th>\n",
       "      <th>OrderDate</th>\n",
       "      <th>Category</th>\n",
       "      <th>City</th>\n",
       "      <th>Country</th>\n",
       "      <th>CustomerName</th>\n",
       "      <th>Discount</th>\n",
       "      <th>OrderID</th>\n",
       "      <th>PostalCode</th>\n",
       "      <th>ProductName</th>\n",
       "      <th>Profit</th>\n",
       "      <th>...</th>\n",
       "      <th>DaystoShipActual</th>\n",
       "      <th>SalesForecast</th>\n",
       "      <th>ShipStatus</th>\n",
       "      <th>DaystoShipScheduled</th>\n",
       "      <th>OrderProfitable</th>\n",
       "      <th>SalesperCustomer</th>\n",
       "      <th>ProfitRatio</th>\n",
       "      <th>SalesaboveTarget</th>\n",
       "      <th>latitude</th>\n",
       "      <th>longitude</th>\n",
       "    </tr>\n",
       "  </thead>\n",
       "  <tbody>\n",
       "    <tr>\n",
       "      <th>0</th>\n",
       "      <td>2011-01-04T00:00:00.000Z</td>\n",
       "      <td>Office Supplies</td>\n",
       "      <td>Houston</td>\n",
       "      <td>United States</td>\n",
       "      <td>Darren Powers</td>\n",
       "      <td>0.2</td>\n",
       "      <td>CA-2011-103800</td>\n",
       "      <td>77095</td>\n",
       "      <td>Message Book, Wirebound, Four 5 1/2 X 4 Forms/...</td>\n",
       "      <td>6</td>\n",
       "      <td>...</td>\n",
       "      <td>4</td>\n",
       "      <td>22</td>\n",
       "      <td>Shipped Early</td>\n",
       "      <td>6</td>\n",
       "      <td>NaN</td>\n",
       "      <td>16.45</td>\n",
       "      <td>33.8</td>\n",
       "      <td>NaN</td>\n",
       "      <td>29.8941</td>\n",
       "      <td>-95.6481</td>\n",
       "    </tr>\n",
       "    <tr>\n",
       "      <th>1</th>\n",
       "      <td>2011-01-05T00:00:00.000Z</td>\n",
       "      <td>Office Supplies</td>\n",
       "      <td>Naperville</td>\n",
       "      <td>United States</td>\n",
       "      <td>Phillina Ober</td>\n",
       "      <td>0.2</td>\n",
       "      <td>CA-2011-112326</td>\n",
       "      <td>60540</td>\n",
       "      <td>Avery 508</td>\n",
       "      <td>4</td>\n",
       "      <td>...</td>\n",
       "      <td>4</td>\n",
       "      <td>15</td>\n",
       "      <td>Shipped Early</td>\n",
       "      <td>6</td>\n",
       "      <td>NaN</td>\n",
       "      <td>11.78</td>\n",
       "      <td>36.3</td>\n",
       "      <td>NaN</td>\n",
       "      <td>41.7662</td>\n",
       "      <td>-88.1410</td>\n",
       "    </tr>\n",
       "    <tr>\n",
       "      <th>2</th>\n",
       "      <td>2011-01-05T00:00:00.000Z</td>\n",
       "      <td>Office Supplies</td>\n",
       "      <td>Naperville</td>\n",
       "      <td>United States</td>\n",
       "      <td>Phillina Ober</td>\n",
       "      <td>0.8</td>\n",
       "      <td>CA-2011-112326</td>\n",
       "      <td>60540</td>\n",
       "      <td>GBC Standard Plastic Binding Systems Combs</td>\n",
       "      <td>-5</td>\n",
       "      <td>...</td>\n",
       "      <td>4</td>\n",
       "      <td>5</td>\n",
       "      <td>Shipped Early</td>\n",
       "      <td>6</td>\n",
       "      <td>NaN</td>\n",
       "      <td>3.54</td>\n",
       "      <td>-155.0</td>\n",
       "      <td>NaN</td>\n",
       "      <td>41.7662</td>\n",
       "      <td>-88.1410</td>\n",
       "    </tr>\n",
       "  </tbody>\n",
       "</table>\n",
       "<p>3 rows × 28 columns</p>\n",
       "</div>"
      ],
      "text/plain": [
       "                  OrderDate         Category        City        Country  \\\n",
       "0  2011-01-04T00:00:00.000Z  Office Supplies     Houston  United States   \n",
       "1  2011-01-05T00:00:00.000Z  Office Supplies  Naperville  United States   \n",
       "2  2011-01-05T00:00:00.000Z  Office Supplies  Naperville  United States   \n",
       "\n",
       "    CustomerName  Discount         OrderID  PostalCode  \\\n",
       "0  Darren Powers       0.2  CA-2011-103800       77095   \n",
       "1  Phillina Ober       0.2  CA-2011-112326       60540   \n",
       "2  Phillina Ober       0.8  CA-2011-112326       60540   \n",
       "\n",
       "                                         ProductName  Profit  ...  \\\n",
       "0  Message Book, Wirebound, Four 5 1/2 X 4 Forms/...       6  ...   \n",
       "1                                          Avery 508       4  ...   \n",
       "2         GBC Standard Plastic Binding Systems Combs      -5  ...   \n",
       "\n",
       "   DaystoShipActual SalesForecast     ShipStatus DaystoShipScheduled  \\\n",
       "0                 4            22  Shipped Early                   6   \n",
       "1                 4            15  Shipped Early                   6   \n",
       "2                 4             5  Shipped Early                   6   \n",
       "\n",
       "  OrderProfitable SalesperCustomer ProfitRatio SalesaboveTarget  latitude  \\\n",
       "0             NaN            16.45        33.8              NaN   29.8941   \n",
       "1             NaN            11.78        36.3              NaN   41.7662   \n",
       "2             NaN             3.54      -155.0              NaN   41.7662   \n",
       "\n",
       "   longitude  \n",
       "0   -95.6481  \n",
       "1   -88.1410  \n",
       "2   -88.1410  \n",
       "\n",
       "[3 rows x 28 columns]"
      ]
     },
     "execution_count": 54,
     "metadata": {},
     "output_type": "execute_result"
    }
   ],
   "source": [
    "df.head(3)"
   ]
  },
  {
   "cell_type": "code",
   "execution_count": 55,
   "id": "44fbb078-8659-492c-993a-235eb329ac4b",
   "metadata": {},
   "outputs": [],
   "source": [
    "db = create_engine('sqlite:///:memory:')"
   ]
  },
  {
   "cell_type": "code",
   "execution_count": 56,
   "id": "5bd8f57c-93f0-4ab5-a0e0-9cbdf739899c",
   "metadata": {},
   "outputs": [],
   "source": [
    "data = df.to_sql(name='sales', con=db)"
   ]
  },
  {
   "cell_type": "code",
   "execution_count": 57,
   "id": "81dfa254-6018-4414-89d3-12661ab53d8d",
   "metadata": {},
   "outputs": [
    {
     "data": {
      "text/plain": [
       "[(2297354,)]"
      ]
     },
     "execution_count": 57,
     "metadata": {},
     "output_type": "execute_result"
    }
   ],
   "source": [
    "with db.connect() as conn:\n",
    "    result = conn.execute(text('SELECT SUM(Sales) FROM SALES'))\n",
    "\n",
    "result.all()"
   ]
  },
  {
   "cell_type": "code",
   "execution_count": null,
   "id": "18e07dfd-fe16-4ad5-845d-7d9999e4df07",
   "metadata": {},
   "outputs": [],
   "source": []
  }
 ],
 "metadata": {
  "kernelspec": {
   "display_name": "Python 3 (ipykernel)",
   "language": "python",
   "name": "python3"
  },
  "language_info": {
   "codemirror_mode": {
    "name": "ipython",
    "version": 3
   },
   "file_extension": ".py",
   "mimetype": "text/x-python",
   "name": "python",
   "nbconvert_exporter": "python",
   "pygments_lexer": "ipython3",
   "version": "3.10.12"
  }
 },
 "nbformat": 4,
 "nbformat_minor": 5
}
