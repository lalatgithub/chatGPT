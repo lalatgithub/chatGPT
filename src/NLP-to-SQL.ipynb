{
 "cells": [
  {
   "cell_type": "code",
   "execution_count": 43,
   "id": "c3dfa568-d7e1-416f-9cf9-8b59f4295ee4",
   "metadata": {},
   "outputs": [],
   "source": [
    "from openai import OpenAI\n",
    "import pandas as pd\n",
    "from sqlalchemy import create_engine, text"
   ]
  },
  {
   "cell_type": "code",
   "execution_count": 44,
   "id": "202d6bde-1d96-4001-b512-bd013e55a91a",
   "metadata": {},
   "outputs": [],
   "source": [
    "openai = OpenAI()"
   ]
  },
  {
   "cell_type": "code",
   "execution_count": 45,
   "id": "10cc48b6-35cf-42d4-9f83-088aa542f53c",
   "metadata": {},
   "outputs": [],
   "source": [
    "df = pd.read_csv('../data/sales.csv')"
   ]
  },
  {
   "cell_type": "code",
   "execution_count": 46,
   "id": "f930a384-1fda-4e0a-ad3f-abf8adaf337f",
   "metadata": {},
   "outputs": [
    {
     "data": {
      "text/html": [
       "<div>\n",
       "<style scoped>\n",
       "    .dataframe tbody tr th:only-of-type {\n",
       "        vertical-align: middle;\n",
       "    }\n",
       "\n",
       "    .dataframe tbody tr th {\n",
       "        vertical-align: top;\n",
       "    }\n",
       "\n",
       "    .dataframe thead th {\n",
       "        text-align: right;\n",
       "    }\n",
       "</style>\n",
       "<table border=\"1\" class=\"dataframe\">\n",
       "  <thead>\n",
       "    <tr style=\"text-align: right;\">\n",
       "      <th></th>\n",
       "      <th>OrderDate</th>\n",
       "      <th>Category</th>\n",
       "      <th>City</th>\n",
       "      <th>Country</th>\n",
       "      <th>CustomerName</th>\n",
       "      <th>Discount</th>\n",
       "      <th>OrderID</th>\n",
       "      <th>PostalCode</th>\n",
       "      <th>ProductName</th>\n",
       "      <th>Profit</th>\n",
       "      <th>...</th>\n",
       "      <th>DaystoShipActual</th>\n",
       "      <th>SalesForecast</th>\n",
       "      <th>ShipStatus</th>\n",
       "      <th>DaystoShipScheduled</th>\n",
       "      <th>OrderProfitable</th>\n",
       "      <th>SalesperCustomer</th>\n",
       "      <th>ProfitRatio</th>\n",
       "      <th>SalesaboveTarget</th>\n",
       "      <th>latitude</th>\n",
       "      <th>longitude</th>\n",
       "    </tr>\n",
       "  </thead>\n",
       "  <tbody>\n",
       "    <tr>\n",
       "      <th>0</th>\n",
       "      <td>2011-01-04T00:00:00.000Z</td>\n",
       "      <td>Office Supplies</td>\n",
       "      <td>Houston</td>\n",
       "      <td>United States</td>\n",
       "      <td>Darren Powers</td>\n",
       "      <td>0.2</td>\n",
       "      <td>CA-2011-103800</td>\n",
       "      <td>77095</td>\n",
       "      <td>Message Book, Wirebound, Four 5 1/2 X 4 Forms/...</td>\n",
       "      <td>6</td>\n",
       "      <td>...</td>\n",
       "      <td>4</td>\n",
       "      <td>22</td>\n",
       "      <td>Shipped Early</td>\n",
       "      <td>6</td>\n",
       "      <td>NaN</td>\n",
       "      <td>16.45</td>\n",
       "      <td>33.8</td>\n",
       "      <td>NaN</td>\n",
       "      <td>29.8941</td>\n",
       "      <td>-95.6481</td>\n",
       "    </tr>\n",
       "    <tr>\n",
       "      <th>1</th>\n",
       "      <td>2011-01-05T00:00:00.000Z</td>\n",
       "      <td>Office Supplies</td>\n",
       "      <td>Naperville</td>\n",
       "      <td>United States</td>\n",
       "      <td>Phillina Ober</td>\n",
       "      <td>0.2</td>\n",
       "      <td>CA-2011-112326</td>\n",
       "      <td>60540</td>\n",
       "      <td>Avery 508</td>\n",
       "      <td>4</td>\n",
       "      <td>...</td>\n",
       "      <td>4</td>\n",
       "      <td>15</td>\n",
       "      <td>Shipped Early</td>\n",
       "      <td>6</td>\n",
       "      <td>NaN</td>\n",
       "      <td>11.78</td>\n",
       "      <td>36.3</td>\n",
       "      <td>NaN</td>\n",
       "      <td>41.7662</td>\n",
       "      <td>-88.1410</td>\n",
       "    </tr>\n",
       "    <tr>\n",
       "      <th>2</th>\n",
       "      <td>2011-01-05T00:00:00.000Z</td>\n",
       "      <td>Office Supplies</td>\n",
       "      <td>Naperville</td>\n",
       "      <td>United States</td>\n",
       "      <td>Phillina Ober</td>\n",
       "      <td>0.8</td>\n",
       "      <td>CA-2011-112326</td>\n",
       "      <td>60540</td>\n",
       "      <td>GBC Standard Plastic Binding Systems Combs</td>\n",
       "      <td>-5</td>\n",
       "      <td>...</td>\n",
       "      <td>4</td>\n",
       "      <td>5</td>\n",
       "      <td>Shipped Early</td>\n",
       "      <td>6</td>\n",
       "      <td>NaN</td>\n",
       "      <td>3.54</td>\n",
       "      <td>-155.0</td>\n",
       "      <td>NaN</td>\n",
       "      <td>41.7662</td>\n",
       "      <td>-88.1410</td>\n",
       "    </tr>\n",
       "  </tbody>\n",
       "</table>\n",
       "<p>3 rows × 28 columns</p>\n",
       "</div>"
      ],
      "text/plain": [
       "                  OrderDate         Category        City        Country  \\\n",
       "0  2011-01-04T00:00:00.000Z  Office Supplies     Houston  United States   \n",
       "1  2011-01-05T00:00:00.000Z  Office Supplies  Naperville  United States   \n",
       "2  2011-01-05T00:00:00.000Z  Office Supplies  Naperville  United States   \n",
       "\n",
       "    CustomerName  Discount         OrderID  PostalCode  \\\n",
       "0  Darren Powers       0.2  CA-2011-103800       77095   \n",
       "1  Phillina Ober       0.2  CA-2011-112326       60540   \n",
       "2  Phillina Ober       0.8  CA-2011-112326       60540   \n",
       "\n",
       "                                         ProductName  Profit  ...  \\\n",
       "0  Message Book, Wirebound, Four 5 1/2 X 4 Forms/...       6  ...   \n",
       "1                                          Avery 508       4  ...   \n",
       "2         GBC Standard Plastic Binding Systems Combs      -5  ...   \n",
       "\n",
       "   DaystoShipActual SalesForecast     ShipStatus DaystoShipScheduled  \\\n",
       "0                 4            22  Shipped Early                   6   \n",
       "1                 4            15  Shipped Early                   6   \n",
       "2                 4             5  Shipped Early                   6   \n",
       "\n",
       "  OrderProfitable SalesperCustomer ProfitRatio SalesaboveTarget  latitude  \\\n",
       "0             NaN            16.45        33.8              NaN   29.8941   \n",
       "1             NaN            11.78        36.3              NaN   41.7662   \n",
       "2             NaN             3.54      -155.0              NaN   41.7662   \n",
       "\n",
       "   longitude  \n",
       "0   -95.6481  \n",
       "1   -88.1410  \n",
       "2   -88.1410  \n",
       "\n",
       "[3 rows x 28 columns]"
      ]
     },
     "execution_count": 46,
     "metadata": {},
     "output_type": "execute_result"
    }
   ],
   "source": [
    "df.head(3)"
   ]
  },
  {
   "cell_type": "code",
   "execution_count": 47,
   "id": "44fbb078-8659-492c-993a-235eb329ac4b",
   "metadata": {},
   "outputs": [],
   "source": [
    "db = create_engine('sqlite:///:memory:')"
   ]
  },
  {
   "cell_type": "code",
   "execution_count": 48,
   "id": "5bd8f57c-93f0-4ab5-a0e0-9cbdf739899c",
   "metadata": {},
   "outputs": [],
   "source": [
    "data = df.to_sql(name='sales', con=db)"
   ]
  },
  {
   "cell_type": "code",
   "execution_count": 49,
   "id": "81dfa254-6018-4414-89d3-12661ab53d8d",
   "metadata": {},
   "outputs": [
    {
     "data": {
      "text/plain": [
       "[(2297354,)]"
      ]
     },
     "execution_count": 49,
     "metadata": {},
     "output_type": "execute_result"
    }
   ],
   "source": [
    "with db.connect() as conn:\n",
    "    result = conn.execute(text('SELECT SUM(Sales) FROM SALES'))\n",
    "\n",
    "result.all()"
   ]
  },
  {
   "cell_type": "code",
   "execution_count": 50,
   "id": "4009b9e0-4779-4b0b-adeb-5be1b6580b41",
   "metadata": {},
   "outputs": [],
   "source": [
    "def create_table_definition(df):\n",
    "    prompt = \"\"\"### sqlite SQL table, with it properties:\n",
    "    #\n",
    "    #Sales({})\n",
    "    #\n",
    "    \"\"\".format(','.join([str(col) for col in df.columns]))\n",
    "\n",
    "    return prompt"
   ]
  },
  {
   "cell_type": "code",
   "execution_count": 85,
   "id": "18e07dfd-fe16-4ad5-845d-7d9999e4df07",
   "metadata": {},
   "outputs": [],
   "source": [
    "def combine_prompts(df, prompt_query):\n",
    "    definition = create_table_definition(df)\n",
    "    query_string = f\"### A query to answer: {prompt_query}\\nSELECT\"\n",
    "    return definition + query_string"
   ]
  },
  {
   "cell_type": "code",
   "execution_count": 86,
   "id": "2cce8af7-fb92-4b63-b6f6-d2eae79ce7b5",
   "metadata": {},
   "outputs": [],
   "source": [
    "def prompt_input():\n",
    "    return input(\"Enter the info you want?\")"
   ]
  },
  {
   "cell_type": "code",
   "execution_count": 90,
   "id": "58b1919e-4cd7-4a08-9db4-604a78662bc8",
   "metadata": {},
   "outputs": [
    {
     "name": "stdin",
     "output_type": "stream",
     "text": [
      "Enter the info you want? give me the sum of sales per quarter\n"
     ]
    },
    {
     "name": "stdout",
     "output_type": "stream",
     "text": [
      "### sqlite SQL table, with it properties:\n",
      "    #\n",
      "    #Sales(OrderDate,Category,City,Country,CustomerName,Discount,OrderID,PostalCode,ProductName,Profit,Quantity,Region,Sales,Segment,ShipDate,ShipMode,State,Sub_Category,DaystoShipActual,SalesForecast,ShipStatus,DaystoShipScheduled,OrderProfitable,SalesperCustomer,ProfitRatio,SalesaboveTarget,latitude,longitude)\n",
      "    #\n",
      "    ### A query to answer: give me the sum of sales per quarter\n",
      "SELECT\n"
     ]
    }
   ],
   "source": [
    "nlp_text = prompt_input()\n",
    "print(combine_prompts(df, nlp_text))"
   ]
  },
  {
   "cell_type": "code",
   "execution_count": 103,
   "id": "07f09ab3-69a7-485a-b2a8-6f95e6fe95d8",
   "metadata": {},
   "outputs": [],
   "source": [
    "response = openai.chat.completions.create(\n",
    "    model='gpt-3.5-turbo',\n",
    "    messages=[{'role': 'user', 'content': combine_prompts(df, nlp_text)}],\n",
    "    temperature=0.4,\n",
    "    stop=[\"#\", \";'\"]\n",
    ")"
   ]
  },
  {
   "cell_type": "code",
   "execution_count": 104,
   "id": "d3e36d2f-0d5a-41d8-9cde-e3dc5defdacc",
   "metadata": {},
   "outputs": [
    {
     "name": "stdout",
     "output_type": "stream",
     "text": [
      "SELECT SUM(Sales) as total_sales, \n",
      "CASE \n",
      "    WHEN strftime('%m', OrderDate) IN ('01','02','03') THEN 'Q1'\n",
      "    WHEN strftime('%m', OrderDate) IN ('04','05','06') THEN 'Q2'\n",
      "    WHEN strftime('%m', OrderDate) IN ('07','08','09') THEN 'Q3'\n",
      "    WHEN strftime('%m', OrderDate) IN ('10','11','12') THEN 'Q4'\n",
      "END as quarter\n",
      "FROM Sales\n",
      "GROUP BY quarter;\n"
     ]
    }
   ],
   "source": [
    "nlp_to_query = f'SELECT {response.choices[0].message.content.strip()}'\n",
    "print(nlp_to_query)"
   ]
  },
  {
   "cell_type": "code",
   "execution_count": 105,
   "id": "5c714da0-160c-457e-aa10-43a61c4959bc",
   "metadata": {},
   "outputs": [
    {
     "data": {
      "text/plain": [
       "[(354817, 'Q1'), (445090, 'Q2'), (618996, 'Q3'), (878451, 'Q4')]"
      ]
     },
     "execution_count": 105,
     "metadata": {},
     "output_type": "execute_result"
    }
   ],
   "source": [
    "with db.connect() as conn:\n",
    "    result = conn.execute(text(nlp_to_query))\n",
    "\n",
    "result.all()"
   ]
  },
  {
   "cell_type": "code",
   "execution_count": null,
   "id": "0edc520b-8c14-49d8-b6ec-248d3d0638f6",
   "metadata": {},
   "outputs": [],
   "source": []
  },
  {
   "cell_type": "code",
   "execution_count": null,
   "id": "b21af2af-0df1-41e2-b370-f9334ada39c2",
   "metadata": {},
   "outputs": [],
   "source": []
  }
 ],
 "metadata": {
  "kernelspec": {
   "display_name": "Python 3 (ipykernel)",
   "language": "python",
   "name": "python3"
  },
  "language_info": {
   "codemirror_mode": {
    "name": "ipython",
    "version": 3
   },
   "file_extension": ".py",
   "mimetype": "text/x-python",
   "name": "python",
   "nbconvert_exporter": "python",
   "pygments_lexer": "ipython3",
   "version": "3.10.12"
  }
 },
 "nbformat": 4,
 "nbformat_minor": 5
}
