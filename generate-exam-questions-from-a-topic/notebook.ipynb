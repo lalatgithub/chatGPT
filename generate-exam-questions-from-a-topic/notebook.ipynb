{
 "cells": [
  {
   "cell_type": "code",
   "execution_count": 30,
   "id": "c3dfa568-d7e1-416f-9cf9-8b59f4295ee4",
   "metadata": {},
   "outputs": [],
   "source": [
    "from openai import OpenAI"
   ]
  },
  {
   "cell_type": "code",
   "execution_count": 2,
   "id": "202d6bde-1d96-4001-b512-bd013e55a91a",
   "metadata": {},
   "outputs": [],
   "source": [
    "openai = OpenAI()"
   ]
  },
  {
   "cell_type": "code",
   "execution_count": 3,
   "id": "9120cd52-f20e-4c43-ba53-750426aaabe9",
   "metadata": {},
   "outputs": [],
   "source": [
    "def create_quiz_prompt(topic, num_of_questions, num_of_possible_answers):\n",
    "    prompt = f\"Create a multiple choice quize on the topic of {topic} consisting of {num_of_questions} questions. \"\\\n",
    "            +f\"Each question should have {num_of_possible_answers} options. \"\\\n",
    "            +f\"Also include the correct answer for each question using the starting string 'Correct Answer:' \"\n",
    "\n",
    "    return prompt"
   ]
  },
  {
   "cell_type": "code",
   "execution_count": 18,
   "id": "07f09ab3-69a7-485a-b2a8-6f95e6fe95d8",
   "metadata": {},
   "outputs": [],
   "source": [
    "def create_quiz(topic='OpenAI', num_of_questions=4, num_of_possible_answers=4):\n",
    "    prompt = create_quiz_prompt(topic, num_of_questions, num_of_possible_answers)\n",
    "    response = openai.chat.completions.create(\n",
    "        model='gpt-3.5-turbo',\n",
    "        messages=[{'role': 'user', 'content': prompt}],\n",
    "        temperature=0.3\n",
    "    )\n",
    "\n",
    "    return response"
   ]
  },
  {
   "cell_type": "code",
   "execution_count": 19,
   "id": "b21af2af-0df1-41e2-b370-f9334ada39c2",
   "metadata": {},
   "outputs": [],
   "source": [
    "topic = 'Python Programming Language'\n",
    "num_of_questions = 4\n",
    "num_of_possible_answers = 4\n",
    "\n",
    "response = create_quiz(topic, num_of_questions, num_of_possible_answers)\n",
    "quiz = response.choices[0].message.content.strip()"
   ]
  },
  {
   "cell_type": "code",
   "execution_count": 20,
   "id": "55cbd1ec-faee-459f-983b-c243e14cf7c8",
   "metadata": {},
   "outputs": [],
   "source": [
    "def extract_questions(quiz, num_of_questions):\n",
    "    questions = {1: ''}\n",
    "    question_number = 1\n",
    "    \n",
    "    for line in quiz.split('\\n'):\n",
    "        if not line.startswith('Correct Answer:'):\n",
    "            questions[question_number] += line + '\\n'\n",
    "        else:\n",
    "            if question_number < num_of_questions:\n",
    "                question_number += 1\n",
    "                questions[question_number] = ''\n",
    "\n",
    "    return questions"
   ]
  },
  {
   "cell_type": "code",
   "execution_count": 21,
   "id": "12075307-bd14-4b14-8c10-665ae128ab4b",
   "metadata": {},
   "outputs": [],
   "source": [
    "def extract_answers(quiz, num_of_questions):\n",
    "    answers = {1: ''}\n",
    "    question_number = 1\n",
    "    \n",
    "    for line in quiz.split('\\n'):\n",
    "        if line.startswith('Correct Answer:'):\n",
    "            answers[question_number] += line + '\\n'\n",
    "            \n",
    "            if question_number < num_of_questions:\n",
    "                question_number += 1\n",
    "                answers[question_number] = ''\n",
    "\n",
    "    return answers"
   ]
  },
  {
   "cell_type": "code",
   "execution_count": 22,
   "id": "15c9e589-b09f-4c2d-8f14-9fa220dff031",
   "metadata": {},
   "outputs": [],
   "source": [
    "questions = extract_questions(quiz, num_of_questions)"
   ]
  },
  {
   "cell_type": "code",
   "execution_count": 23,
   "id": "481dce7e-cfc5-43b9-9334-b58ec19ff80b",
   "metadata": {},
   "outputs": [],
   "source": [
    "def create_student_view():\n",
    "    for question in questions.values():\n",
    "        print(question)"
   ]
  },
  {
   "cell_type": "code",
   "execution_count": 24,
   "id": "03b752d4-241d-4253-a123-f5fc4e2d0b70",
   "metadata": {},
   "outputs": [
    {
     "name": "stdout",
     "output_type": "stream",
     "text": [
      "1. What is Python?\n",
      "a) A type of snake\n",
      "b) A programming language\n",
      "c) A type of food\n",
      "d) A country\n",
      "\n",
      "\n",
      "\n",
      "2. Which of the following is NOT a Python data type?\n",
      "a) Integer\n",
      "b) String\n",
      "c) Boolean\n",
      "d) Float\n",
      "\n",
      "\n",
      "\n",
      "3. What is the correct way to declare a variable in Python?\n",
      "a) var x = 5\n",
      "b) x = 5\n",
      "c) int x = 5\n",
      "d) declare x as 5\n",
      "\n",
      "\n",
      "\n",
      "4. What is the output of the following code snippet?\n",
      "\n",
      "x = 5\n",
      "y = 2\n",
      "print(x % y)\n",
      "\n",
      "a) 2\n",
      "b) 3\n",
      "c) 1\n",
      "d) 0\n",
      "\n",
      "\n"
     ]
    }
   ],
   "source": [
    "create_student_view()"
   ]
  },
  {
   "cell_type": "code",
   "execution_count": 25,
   "id": "a85f07b5-6170-4c8e-a2fa-018fc2b2732d",
   "metadata": {},
   "outputs": [],
   "source": [
    "def take_quiz(questions):\n",
    "    student_answers = {}\n",
    "    for question_num, question  in questions.items():\n",
    "        print(question)\n",
    "        answer = input('Enter your answer: ')\n",
    "        student_answers[question_num] = answer\n",
    "\n",
    "    return student_answers"
   ]
  },
  {
   "cell_type": "code",
   "execution_count": 26,
   "id": "a91645e2-689d-489e-b614-8b6313fca0cc",
   "metadata": {},
   "outputs": [
    {
     "name": "stdout",
     "output_type": "stream",
     "text": [
      "1. What is Python?\n",
      "a) A type of snake\n",
      "b) A programming language\n",
      "c) A type of food\n",
      "d) A country\n",
      "\n",
      "\n"
     ]
    },
    {
     "name": "stdin",
     "output_type": "stream",
     "text": [
      "Enter your answer:  b\n"
     ]
    },
    {
     "name": "stdout",
     "output_type": "stream",
     "text": [
      "\n",
      "2. Which of the following is NOT a Python data type?\n",
      "a) Integer\n",
      "b) String\n",
      "c) Boolean\n",
      "d) Float\n",
      "\n",
      "\n"
     ]
    },
    {
     "name": "stdin",
     "output_type": "stream",
     "text": [
      "Enter your answer:  d\n"
     ]
    },
    {
     "name": "stdout",
     "output_type": "stream",
     "text": [
      "\n",
      "3. What is the correct way to declare a variable in Python?\n",
      "a) var x = 5\n",
      "b) x = 5\n",
      "c) int x = 5\n",
      "d) declare x as 5\n",
      "\n",
      "\n"
     ]
    },
    {
     "name": "stdin",
     "output_type": "stream",
     "text": [
      "Enter your answer:  b\n"
     ]
    },
    {
     "name": "stdout",
     "output_type": "stream",
     "text": [
      "\n",
      "4. What is the output of the following code snippet?\n",
      "\n",
      "x = 5\n",
      "y = 2\n",
      "print(x % y)\n",
      "\n",
      "a) 2\n",
      "b) 3\n",
      "c) 1\n",
      "d) 0\n",
      "\n",
      "\n"
     ]
    },
    {
     "name": "stdin",
     "output_type": "stream",
     "text": [
      "Enter your answer:  c\n"
     ]
    }
   ],
   "source": [
    "student_answers = take_quiz(questions)"
   ]
  },
  {
   "cell_type": "code",
   "execution_count": 27,
   "id": "98b63dff-db71-4b7e-ba7b-6f33b27da4b1",
   "metadata": {},
   "outputs": [],
   "source": [
    "correct_answers = extract_answers(quiz, num_of_questions)"
   ]
  },
  {
   "cell_type": "code",
   "execution_count": 28,
   "id": "d99e5ad0-7e97-44e1-a624-aa1167574273",
   "metadata": {},
   "outputs": [],
   "source": [
    "def grade(student_answers, correct_answers):\n",
    "    correct = 0\n",
    "    for question, answer in student_answers.items():\n",
    "        if answer == correct_answers[question][16]:\n",
    "            correct += 1\n",
    "\n",
    "    grade = int(100 * correct / num_of_questions)\n",
    "\n",
    "    if grade < 60:\n",
    "        passed = \"NO PASS\"\n",
    "    else:\n",
    "        passed = \"PASS!\"\n",
    "\n",
    "    return f\"{correct}/{num_of_questions} answers are correct! You got a {grade} grade, {passed}\""
   ]
  },
  {
   "cell_type": "code",
   "execution_count": 29,
   "id": "572924a1-172e-458a-af60-4dae8ea52e58",
   "metadata": {},
   "outputs": [
    {
     "data": {
      "text/plain": [
       "'4/4 answers are correct! You got a 100 grade, PASS!'"
      ]
     },
     "execution_count": 29,
     "metadata": {},
     "output_type": "execute_result"
    }
   ],
   "source": [
    "grade(student_answers, correct_answers)"
   ]
  },
  {
   "cell_type": "code",
   "execution_count": null,
   "id": "c4f17351-0a85-4d22-b9f6-50b9e91e9a44",
   "metadata": {},
   "outputs": [],
   "source": []
  },
  {
   "cell_type": "code",
   "execution_count": null,
   "id": "7d792319-7b9e-495b-b4ba-3623ee56b628",
   "metadata": {},
   "outputs": [],
   "source": []
  },
  {
   "cell_type": "code",
   "execution_count": null,
   "id": "13e7b9ce-5b9d-424d-b5b9-f72559e3dbfd",
   "metadata": {},
   "outputs": [],
   "source": []
  }
 ],
 "metadata": {
  "kernelspec": {
   "display_name": "Python 3 (ipykernel)",
   "language": "python",
   "name": "python3"
  },
  "language_info": {
   "codemirror_mode": {
    "name": "ipython",
    "version": 3
   },
   "file_extension": ".py",
   "mimetype": "text/x-python",
   "name": "python",
   "nbconvert_exporter": "python",
   "pygments_lexer": "ipython3",
   "version": "3.10.12"
  }
 },
 "nbformat": 4,
 "nbformat_minor": 5
}
