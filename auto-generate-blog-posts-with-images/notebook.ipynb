{
 "cells": [
  {
   "cell_type": "code",
   "execution_count": 7,
   "id": "c3dfa568-d7e1-416f-9cf9-8b59f4295ee4",
   "metadata": {},
   "outputs": [],
   "source": [
    "import os\n",
    "from git import Repo\n",
    "from pathlib import Path\n",
    "from openai import OpenAI"
   ]
  },
  {
   "cell_type": "code",
   "execution_count": 8,
   "id": "202d6bde-1d96-4001-b512-bd013e55a91a",
   "metadata": {},
   "outputs": [],
   "source": [
    "openai = OpenAI()"
   ]
  },
  {
   "cell_type": "code",
   "execution_count": 38,
   "id": "6aeda574-3212-48cf-9167-0389394682d5",
   "metadata": {},
   "outputs": [],
   "source": [
    "PROJECT_ROOT_DIR = Path(os.path.abspath('')).parent\n",
    "REPO_PATH = os.path.join(PROJECT_ROOT_DIR, '.git')\n",
    "CONTENT_DIR = f'{PROJECT_ROOT_DIR}/content'"
   ]
  },
  {
   "cell_type": "code",
   "execution_count": 39,
   "id": "0e890c65-1c15-4442-affb-00800f8b51bf",
   "metadata": {},
   "outputs": [],
   "source": [
    "os.makedirs(CONTENT_DIR, exist_ok=True)"
   ]
  },
  {
   "cell_type": "code",
   "execution_count": 52,
   "id": "e28dbe7e-842b-4ddf-ba33-04773b733761",
   "metadata": {},
   "outputs": [],
   "source": [
    "def update_blog(commit_message='Update blog'):\n",
    "\n",
    "    # set git repo\n",
    "    repo = Repo(REPO_PATH)\n",
    "\n",
    "    # git add .\n",
    "    repo.git.add(all=True)\n",
    "\n",
    "    # git commit -m \"message\"\n",
    "    repo.index.commit(commit_message)\n",
    "\n",
    "    # git push \n",
    "    origin = repo.remote(name='origin')\n",
    "    origin.push(refspec=\"master:master\")"
   ]
  },
  {
   "cell_type": "code",
   "execution_count": 53,
   "id": "20320c45-53d3-431f-a0e6-d6e6e60c00b6",
   "metadata": {},
   "outputs": [],
   "source": [
    "with open(os.path.join(PROJECT_ROOT_DIR, 'test.html'), 'w') as f:\n",
    "    f.write(\"<h3>This is a test</h3>\")"
   ]
  },
  {
   "cell_type": "code",
   "execution_count": 54,
   "id": "2b422d97-a38a-46e9-8624-a43bf9dd246a",
   "metadata": {},
   "outputs": [],
   "source": [
    "update_blog(commit_message=\"Testing git python\")"
   ]
  },
  {
   "cell_type": "code",
   "execution_count": null,
   "id": "0c81b6bb-38f1-4dbe-b6c9-a67a4f0cf545",
   "metadata": {},
   "outputs": [],
   "source": []
  },
  {
   "cell_type": "code",
   "execution_count": null,
   "id": "4064db99-4995-4e29-a591-0922231722a6",
   "metadata": {},
   "outputs": [],
   "source": []
  }
 ],
 "metadata": {
  "kernelspec": {
   "display_name": "Python 3 (ipykernel)",
   "language": "python",
   "name": "python3"
  },
  "language_info": {
   "codemirror_mode": {
    "name": "ipython",
    "version": 3
   },
   "file_extension": ".py",
   "mimetype": "text/x-python",
   "name": "python",
   "nbconvert_exporter": "python",
   "pygments_lexer": "ipython3",
   "version": "3.10.12"
  }
 },
 "nbformat": 4,
 "nbformat_minor": 5
}
