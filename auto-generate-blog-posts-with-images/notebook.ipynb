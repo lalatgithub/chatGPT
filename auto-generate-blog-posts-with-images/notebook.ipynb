{
 "cells": [
  {
   "cell_type": "code",
   "execution_count": 7,
   "id": "c3dfa568-d7e1-416f-9cf9-8b59f4295ee4",
   "metadata": {},
   "outputs": [],
   "source": [
    "import os\n",
    "from git import Repo\n",
    "from pathlib import Path\n",
    "from openai import OpenAI"
   ]
  },
  {
   "cell_type": "code",
   "execution_count": 8,
   "id": "202d6bde-1d96-4001-b512-bd013e55a91a",
   "metadata": {},
   "outputs": [],
   "source": [
    "openai = OpenAI()"
   ]
  },
  {
   "cell_type": "code",
   "execution_count": 22,
   "id": "6aeda574-3212-48cf-9167-0389394682d5",
   "metadata": {},
   "outputs": [],
   "source": [
    "PROJECT_ROOT_DIR = Path(os.path.abspath('')).parent\n",
    "REPO_PATH = f'{PROJECT_ROOT_DIR}/.git'\n",
    "CONTENT_DIR = f'{PROJECT_ROOT_DIR}/content'"
   ]
  },
  {
   "cell_type": "code",
   "execution_count": 26,
   "id": "0e890c65-1c15-4442-affb-00800f8b51bf",
   "metadata": {},
   "outputs": [],
   "source": [
    "os.makedirs(CONTENT_DIR, exist_ok=True)"
   ]
  },
  {
   "cell_type": "code",
   "execution_count": 27,
   "id": "e28dbe7e-842b-4ddf-ba33-04773b733761",
   "metadata": {},
   "outputs": [],
   "source": [
    "def update_blog(commit_message='Update blog'):\n",
    "\n",
    "    # set git repo\n",
    "    repo = Repo(REPO_PATH)\n",
    "\n",
    "    # git add .\n",
    "    repo.git.add(all=True)\n",
    "\n",
    "    # git commit -m \"message\"\n",
    "    repo.index.commit(commit_message)\n",
    "\n",
    "    # git push \n",
    "    origin = repo.remote(name=origin)\n",
    "    repo.push()"
   ]
  },
  {
   "cell_type": "code",
   "execution_count": null,
   "id": "20320c45-53d3-431f-a0e6-d6e6e60c00b6",
   "metadata": {},
   "outputs": [],
   "source": [
    "with open(os.path.join(PROJECT_ROOT_DIR, ''))"
   ]
  }
 ],
 "metadata": {
  "kernelspec": {
   "display_name": "Python 3 (ipykernel)",
   "language": "python",
   "name": "python3"
  },
  "language_info": {
   "codemirror_mode": {
    "name": "ipython",
    "version": 3
   },
   "file_extension": ".py",
   "mimetype": "text/x-python",
   "name": "python",
   "nbconvert_exporter": "python",
   "pygments_lexer": "ipython3",
   "version": "3.10.12"
  }
 },
 "nbformat": 4,
 "nbformat_minor": 5
}
